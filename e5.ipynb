{
 "cells": [
  {
   "cell_type": "code",
   "execution_count": 22,
   "metadata": {},
   "outputs": [],
   "source": [
    "import pandas as pd\n",
    "\n",
    "url=\"./Phishing.csv\"\n",
    "df=pd.read_csv(url)"
   ]
  },
  {
   "cell_type": "code",
   "execution_count": 44,
   "metadata": {},
   "outputs": [],
   "source": [
    "# Worse with only changing result vs all (???)\n",
    "# Change result instances of -1 to 0\n",
    "df['Result'].values[df['Result'].values < 0] = 0\n",
    "\n",
    "# Change all instances of -1 to 0\n",
    "# df.values[df.values < 0] = 0"
   ]
  },
  {
   "cell_type": "code",
   "execution_count": 45,
   "metadata": {},
   "outputs": [
    {
     "data": {
      "text/html": [
       "<div>\n",
       "<style scoped>\n",
       "    .dataframe tbody tr th:only-of-type {\n",
       "        vertical-align: middle;\n",
       "    }\n",
       "\n",
       "    .dataframe tbody tr th {\n",
       "        vertical-align: top;\n",
       "    }\n",
       "\n",
       "    .dataframe thead th {\n",
       "        text-align: right;\n",
       "    }\n",
       "</style>\n",
       "<table border=\"1\" class=\"dataframe\">\n",
       "  <thead>\n",
       "    <tr style=\"text-align: right;\">\n",
       "      <th></th>\n",
       "      <th>having_IP_Address</th>\n",
       "      <th>URL_Length</th>\n",
       "      <th>Shortining_Service</th>\n",
       "      <th>having_At_Symbol</th>\n",
       "      <th>double_slash_redirecting</th>\n",
       "      <th>Prefix_Suffix</th>\n",
       "      <th>having_Sub_Domain</th>\n",
       "      <th>SSLfinal_State</th>\n",
       "      <th>Domain_registeration_length</th>\n",
       "      <th>Favicon</th>\n",
       "      <th>...</th>\n",
       "      <th>popUpWidnow</th>\n",
       "      <th>Iframe</th>\n",
       "      <th>age_of_domain</th>\n",
       "      <th>DNSRecord</th>\n",
       "      <th>web_traffic</th>\n",
       "      <th>Page_Rank</th>\n",
       "      <th>Google_Index</th>\n",
       "      <th>Links_pointing_to_page</th>\n",
       "      <th>Statistical_report</th>\n",
       "      <th>Result</th>\n",
       "    </tr>\n",
       "  </thead>\n",
       "  <tbody>\n",
       "  </tbody>\n",
       "</table>\n",
       "<p>0 rows × 31 columns</p>\n",
       "</div>"
      ],
      "text/plain": [
       "Empty DataFrame\n",
       "Columns: [having_IP_Address, URL_Length, Shortining_Service, having_At_Symbol, double_slash_redirecting, Prefix_Suffix, having_Sub_Domain, SSLfinal_State, Domain_registeration_length, Favicon, port, HTTPS_token, Request_URL, URL_of_Anchor, Links_in_tags, SFH, Submitting_to_email, Abnormal_URL, Redirect, on_mouseover, RightClick, popUpWidnow, Iframe, age_of_domain, DNSRecord, web_traffic, Page_Rank, Google_Index, Links_pointing_to_page, Statistical_report, Result]\n",
       "Index: []\n",
       "\n",
       "[0 rows x 31 columns]"
      ]
     },
     "execution_count": 45,
     "metadata": {},
     "output_type": "execute_result"
    }
   ],
   "source": [
    "# Get Row with a missing value\n",
    "null_data = df[df.isnull().any(axis=1)]\n",
    "null_data"
   ]
  },
  {
   "cell_type": "code",
   "execution_count": 46,
   "metadata": {},
   "outputs": [],
   "source": [
    "from sklearn.impute import SimpleImputer\n",
    "\n",
    "# Use mean value for any nan values\n",
    "df.fillna(df.mean(), inplace=True)"
   ]
  },
  {
   "cell_type": "code",
   "execution_count": 47,
   "metadata": {},
   "outputs": [],
   "source": [
    "from sklearn.model_selection import train_test_split\n",
    "\n",
    "# split data up into training and test data\n",
    "x = df.iloc[:,0:30].values.astype(int)\n",
    "y = df.iloc[:,30].values.astype(int)\n",
    "\n",
    "x_train, x_test, y_train, y_test = train_test_split(x, y, test_size=0.2, random_state=42)"
   ]
  },
  {
   "cell_type": "code",
   "execution_count": 48,
   "metadata": {},
   "outputs": [
    {
     "data": {
      "text/plain": [
       "(None, None)"
      ]
     },
     "execution_count": 48,
     "metadata": {},
     "output_type": "execute_result"
    }
   ],
   "source": [
    "import numpy as np\n",
    "\n",
    "# Fix the random seed\n",
    "np.random.seed(7)\n",
    "\n",
    "# Serialize the numpy arrays\n",
    "np.save(\"X_train.npy\", x_train), np.save(\"y_train.npy\", y_train)\n",
    "np.save(\"X_test.npy\", x_train), np.save(\"y_test.npy\", y_train)"
   ]
  },
  {
   "cell_type": "code",
   "execution_count": 49,
   "metadata": {},
   "outputs": [
    {
     "data": {
      "text/plain": [
       "LogisticRegression(C=1.0, class_weight=None, dual=False, fit_intercept=True,\n",
       "                   intercept_scaling=1, l1_ratio=None, max_iter=100,\n",
       "                   multi_class='auto', n_jobs=None, penalty='l2',\n",
       "                   random_state=None, solver='lbfgs', tol=0.0001, verbose=0,\n",
       "                   warm_start=False)"
      ]
     },
     "execution_count": 49,
     "metadata": {},
     "output_type": "execute_result"
    }
   ],
   "source": [
    "from sklearn.linear_model import LogisticRegression\n",
    "\n",
    "logisticRegr = LogisticRegression()\n",
    "logisticRegr.fit(x_train, y_train)\n"
   ]
  },
  {
   "cell_type": "code",
   "execution_count": 50,
   "metadata": {},
   "outputs": [
    {
     "data": {
      "text/plain": [
       "(0.9163274536408865, 0.9163274536408865, 0.9163274536408865, None)"
      ]
     },
     "execution_count": 50,
     "metadata": {},
     "output_type": "execute_result"
    }
   ],
   "source": [
    "from sklearn.metrics import precision_recall_fscore_support\n",
    "\n",
    "t = precision_recall_fscore_support(y_test, logisticRegr.predict(x_test), average='micro')\n",
    "t"
   ]
  },
  {
   "cell_type": "code",
   "execution_count": 51,
   "metadata": {},
   "outputs": [
    {
     "data": {
      "text/plain": [
       "array([[ 854,  102],\n",
       "       [  83, 1172]])"
      ]
     },
     "execution_count": 51,
     "metadata": {},
     "output_type": "execute_result"
    }
   ],
   "source": [
    "from sklearn import metrics\n",
    "\n",
    "y_pred=logisticRegr.predict(x_test)\n",
    "cnf_matrix = metrics.confusion_matrix(y_test, y_pred)\n",
    "cnf_matrix"
   ]
  },
  {
   "cell_type": "code",
   "execution_count": 52,
   "metadata": {},
   "outputs": [],
   "source": [
    "# import required modules\n",
    "import numpy as np\n",
    "import matplotlib.pyplot as plt\n",
    "import seaborn as sns\n",
    "%matplotlib inline"
   ]
  },
  {
   "cell_type": "code",
   "execution_count": 53,
   "metadata": {},
   "outputs": [
    {
     "data": {
      "text/plain": [
       "Text(0.5, 257.44, 'Predicted label')"
      ]
     },
     "execution_count": 53,
     "metadata": {},
     "output_type": "execute_result"
    },
    {
     "data": {
      "image/png": "[encoded data removed]",
      "text/plain": [
       "<Figure size 432x288 with 2 Axes>"
      ]
     },
     "metadata": {
      "needs_background": "light"
     },
     "output_type": "display_data"
    }
   ],
   "source": [
    "class_names=[0,1] # name  of classes\n",
    "fig, ax = plt.subplots()\n",
    "tick_marks = np.arange(len(class_names))\n",
    "plt.xticks(tick_marks, class_names)\n",
    "plt.yticks(tick_marks, class_names)\n",
    "# create heatmap\n",
    "sns.heatmap(pd.DataFrame(cnf_matrix), annot=True, cmap=\"YlGnBu\" ,fmt='g')\n",
    "ax.xaxis.set_label_position(\"top\")\n",
    "plt.tight_layout()\n",
    "plt.title('Confusion matrix', y=1.1)\n",
    "plt.ylabel('Actual label')\n",
    "plt.xlabel('Predicted label')"
   ]
  },
  {
   "cell_type": "code",
   "execution_count": 54,
   "metadata": {},
   "outputs": [
    {
     "name": "stdout",
     "output_type": "stream",
     "text": [
      "Accuracy: 0.9163274536408865\n",
      "Precision: 0.9199372056514914\n",
      "Recall: 0.9338645418326693\n"
     ]
    }
   ],
   "source": [
    "print(\"Accuracy:\",metrics.accuracy_score(y_test, y_pred))\n",
    "print(\"Precision:\",metrics.precision_score(y_test, y_pred))\n",
    "print(\"Recall:\",metrics.recall_score(y_test, y_pred))"
   ]
  },
  {
   "cell_type": "markdown",
   "metadata": {},
   "source": [
    "From the above classification report, we can see that the model is able to detect 91.6% of phishing websites with 91.9% precision."
   ]
  },
  {
   "cell_type": "code",
   "execution_count": 55,
   "metadata": {},
   "outputs": [],
   "source": [
    "# Imports\n",
    "from keras.models import Sequential\n",
    "from keras.layers import Dense\n",
    "from keras.optimizers import *"
   ]
  },
  {
   "cell_type": "code",
   "execution_count": 56,
   "metadata": {},
   "outputs": [],
   "source": [
    "# Model building using the Sequential API\n",
    "model = Sequential()\n",
    "\n",
    "model.add(Dense(40, activation='relu',\n",
    "          kernel_initializer='uniform',input_dim=x.shape[1]))\n",
    "model.add(Dense(30, activation='relu',\n",
    "          kernel_initializer='uniform'))\n",
    "model.add(Dense(1,  activation='sigmoid',\n",
    "          kernel_initializer='uniform'))\n",
    "\n",
    "model.compile(loss='binary_crossentropy', optimizer=Adam(), metrics=['accuracy'])"
   ]
  },
  {
   "cell_type": "code",
   "execution_count": 57,
   "metadata": {},
   "outputs": [
    {
     "name": "stdout",
     "output_type": "stream",
     "text": [
      "Model: \"sequential_7\"\n",
      "_________________________________________________________________\n",
      "Layer (type)                 Output Shape              Param #   \n",
      "=================================================================\n",
      "dense_14 (Dense)             (None, 40)                1240      \n",
      "_________________________________________________________________\n",
      "dense_15 (Dense)             (None, 30)                1230      \n",
      "_________________________________________________________________\n",
      "dense_16 (Dense)             (None, 1)                 31        \n",
      "=================================================================\n",
      "Total params: 2,501\n",
      "Trainable params: 2,501\n",
      "Non-trainable params: 0\n",
      "_________________________________________________________________\n"
     ]
    }
   ],
   "source": [
    "model.summary()"
   ]
  },
  {
   "cell_type": "code",
   "execution_count": 58,
   "metadata": {},
   "outputs": [
    {
     "data": {
      "image/png": "[encoded data removed]",
      "text/plain": [
       "<IPython.core.display.Image object>"
      ]
     },
     "execution_count": 58,
     "metadata": {},
     "output_type": "execute_result"
    }
   ],
   "source": [
    "import tensorflow as tf\n",
    "import keras\n",
    "\n",
    "keras.utils.plot_model(model, to_file='model.png')"
   ]
  },
  {
   "cell_type": "code",
   "execution_count": 59,
   "metadata": {},
   "outputs": [],
   "source": [
    "from keras import callbacks\n",
    "\n",
    "es_cb = callbacks.EarlyStopping(monitor='loss', min_delta=0.001, patience=5)"
   ]
  },
  {
   "cell_type": "code",
   "execution_count": 60,
   "metadata": {},
   "outputs": [
    {
     "name": "stdout",
     "output_type": "stream",
     "text": [
      "Epoch 1/128\n",
      "8844/8844 [==============================] - 0s 46us/step - loss: 0.4890 - accuracy: 0.7472\n",
      "Epoch 2/128\n",
      "8844/8844 [==============================] - 0s 34us/step - loss: 0.2417 - accuracy: 0.9038\n",
      "Epoch 3/128\n",
      "8844/8844 [==============================] - 0s 31us/step - loss: 0.2273 - accuracy: 0.9091\n",
      "Epoch 4/128\n",
      "8844/8844 [==============================] - 0s 31us/step - loss: 0.2226 - accuracy: 0.9126\n",
      "Epoch 5/128\n",
      "8844/8844 [==============================] - 0s 32us/step - loss: 0.2216 - accuracy: 0.9123\n",
      "Epoch 6/128\n",
      "8844/8844 [==============================] - 0s 32us/step - loss: 0.2167 - accuracy: 0.9140\n",
      "Epoch 7/128\n",
      "8844/8844 [==============================] - 0s 32us/step - loss: 0.2130 - accuracy: 0.9153\n",
      "Epoch 8/128\n",
      "8844/8844 [==============================] - 0s 32us/step - loss: 0.2103 - accuracy: 0.9176\n",
      "Epoch 9/128\n",
      "8844/8844 [==============================] - 0s 31us/step - loss: 0.2080 - accuracy: 0.9180\n",
      "Epoch 10/128\n",
      "8844/8844 [==============================] - 0s 31us/step - loss: 0.2085 - accuracy: 0.9175\n",
      "Epoch 11/128\n",
      "8844/8844 [==============================] - 0s 31us/step - loss: 0.2088 - accuracy: 0.9173\n",
      "Epoch 12/128\n",
      "8844/8844 [==============================] - 0s 32us/step - loss: 0.2045 - accuracy: 0.9205\n",
      "Epoch 13/128\n",
      "8844/8844 [==============================] - 0s 32us/step - loss: 0.2017 - accuracy: 0.9171\n",
      "Epoch 14/128\n",
      "8844/8844 [==============================] - 0s 32us/step - loss: 0.2024 - accuracy: 0.9196\n",
      "Epoch 15/128\n",
      "8844/8844 [==============================] - 0s 31us/step - loss: 0.2044 - accuracy: 0.9176\n",
      "Epoch 16/128\n",
      "8844/8844 [==============================] - 0s 37us/step - loss: 0.1998 - accuracy: 0.9203\n",
      "Epoch 17/128\n",
      "8844/8844 [==============================] - 0s 38us/step - loss: 0.2011 - accuracy: 0.9186\n",
      "Epoch 18/128\n",
      "8844/8844 [==============================] - 0s 28us/step - loss: 0.2001 - accuracy: 0.9211\n",
      "Epoch 19/128\n",
      "8844/8844 [==============================] - 0s 31us/step - loss: 0.1970 - accuracy: 0.9207\n",
      "Epoch 20/128\n",
      "8844/8844 [==============================] - 0s 29us/step - loss: 0.1970 - accuracy: 0.9187\n",
      "Epoch 21/128\n",
      "8844/8844 [==============================] - 0s 28us/step - loss: 0.1954 - accuracy: 0.9198\n",
      "Epoch 22/128\n",
      "8844/8844 [==============================] - 0s 33us/step - loss: 0.1976 - accuracy: 0.9195\n",
      "Epoch 23/128\n",
      "8844/8844 [==============================] - 0s 29us/step - loss: 0.1949 - accuracy: 0.9213\n",
      "Epoch 24/128\n",
      "8844/8844 [==============================] - 0s 32us/step - loss: 0.1961 - accuracy: 0.9205\n",
      "Epoch 25/128\n",
      "8844/8844 [==============================] - 0s 30us/step - loss: 0.1959 - accuracy: 0.9194\n",
      "Epoch 26/128\n",
      "8844/8844 [==============================] - 0s 28us/step - loss: 0.1926 - accuracy: 0.9225\n",
      "Epoch 27/128\n",
      "8844/8844 [==============================] - 0s 30us/step - loss: 0.1958 - accuracy: 0.9212\n",
      "Epoch 28/128\n",
      "8844/8844 [==============================] - 0s 32us/step - loss: 0.1936 - accuracy: 0.9206\n",
      "Epoch 29/128\n",
      "8844/8844 [==============================] - 0s 34us/step - loss: 0.1921 - accuracy: 0.9219\n",
      "Epoch 30/128\n",
      "8844/8844 [==============================] - 0s 33us/step - loss: 0.1913 - accuracy: 0.9228\n",
      "Epoch 31/128\n",
      "8844/8844 [==============================] - 0s 32us/step - loss: 0.1903 - accuracy: 0.9236\n",
      "Epoch 32/128\n",
      "8844/8844 [==============================] - 0s 27us/step - loss: 0.1934 - accuracy: 0.9190\n",
      "Epoch 33/128\n",
      "8844/8844 [==============================] - 0s 29us/step - loss: 0.1893 - accuracy: 0.9232\n",
      "Epoch 34/128\n",
      "8844/8844 [==============================] - 0s 27us/step - loss: 0.1909 - accuracy: 0.9219\n",
      "Epoch 35/128\n",
      "8844/8844 [==============================] - 0s 31us/step - loss: 0.1874 - accuracy: 0.9237\n",
      "Epoch 36/128\n",
      "8844/8844 [==============================] - 0s 28us/step - loss: 0.1882 - accuracy: 0.9221\n",
      "Epoch 37/128\n",
      "8844/8844 [==============================] - 0s 28us/step - loss: 0.1865 - accuracy: 0.9223\n",
      "Epoch 38/128\n",
      "8844/8844 [==============================] - 0s 29us/step - loss: 0.1861 - accuracy: 0.9219\n",
      "Epoch 39/128\n",
      "8844/8844 [==============================] - 0s 30us/step - loss: 0.1866 - accuracy: 0.9210\n",
      "Epoch 40/128\n",
      "8844/8844 [==============================] - 0s 28us/step - loss: 0.1865 - accuracy: 0.9224\n",
      "Epoch 41/128\n",
      "8844/8844 [==============================] - 0s 28us/step - loss: 0.1849 - accuracy: 0.9231\n",
      "Epoch 42/128\n",
      "8844/8844 [==============================] - 0s 29us/step - loss: 0.1866 - accuracy: 0.9214\n",
      "Epoch 43/128\n",
      "8844/8844 [==============================] - 0s 29us/step - loss: 0.1875 - accuracy: 0.9220\n",
      "Epoch 44/128\n",
      "8844/8844 [==============================] - 0s 31us/step - loss: 0.1854 - accuracy: 0.9230\n",
      "Epoch 45/128\n",
      "8844/8844 [==============================] - 0s 32us/step - loss: 0.1827 - accuracy: 0.9237\n",
      "Epoch 46/128\n",
      "8844/8844 [==============================] - 0s 33us/step - loss: 0.1862 - accuracy: 0.9215\n",
      "Epoch 47/128\n",
      "8844/8844 [==============================] - 0s 30us/step - loss: 0.1851 - accuracy: 0.9245\n",
      "Epoch 48/128\n",
      "8844/8844 [==============================] - 0s 28us/step - loss: 0.1816 - accuracy: 0.9248\n",
      "Epoch 49/128\n",
      "8844/8844 [==============================] - 0s 29us/step - loss: 0.1848 - accuracy: 0.9238\n",
      "Epoch 50/128\n",
      "8844/8844 [==============================] - 0s 31us/step - loss: 0.1832 - accuracy: 0.9242\n",
      "Epoch 51/128\n",
      "8844/8844 [==============================] - 0s 33us/step - loss: 0.1817 - accuracy: 0.9245\n",
      "Epoch 52/128\n",
      "8844/8844 [==============================] - 0s 33us/step - loss: 0.1804 - accuracy: 0.9232\n",
      "Epoch 53/128\n",
      "8844/8844 [==============================] - 0s 30us/step - loss: 0.1814 - accuracy: 0.9247\n",
      "Epoch 54/128\n",
      "8844/8844 [==============================] - 0s 30us/step - loss: 0.1800 - accuracy: 0.9259\n",
      "Epoch 55/128\n",
      "8844/8844 [==============================] - 0s 30us/step - loss: 0.1815 - accuracy: 0.9245\n",
      "Epoch 56/128\n",
      "8844/8844 [==============================] - 0s 29us/step - loss: 0.1808 - accuracy: 0.9232\n",
      "Epoch 57/128\n",
      "8844/8844 [==============================] - 0s 29us/step - loss: 0.1807 - accuracy: 0.9250\n",
      "2211/2211 [==============================] - 0s 37us/step\n",
      "\n",
      "Accuracy score of the Neural Network with basic hyperparameter settings 91.18%\n"
     ]
    }
   ],
   "source": [
    "history = model.fit(x_train, y_train, batch_size=64, epochs=128, verbose=1, callbacks=[es_cb])\n",
    "\n",
    "scores = model.evaluate(x_test, y_test)\n",
    "print('\\nAccuracy score of the Neural Network with basic hyperparameter settings {0:.2f}%'.format(scores[1]*100))"
   ]
  },
  {
   "cell_type": "markdown",
   "metadata": {},
   "source": [
    "TDLHBA hyperparameters"
   ]
  },
  {
   "cell_type": "code",
   "execution_count": 61,
   "metadata": {},
   "outputs": [],
   "source": [
    "model_TDLHBA = Sequential()\n",
    "\n",
    "model_TDLHBA.add(Dense(40, activation='relu',\n",
    "          kernel_initializer='uniform',input_dim=30))\n",
    "model_TDLHBA.add(Dense(30, activation='relu',\n",
    "          kernel_initializer='uniform'))\n",
    "model_TDLHBA.add(Dense(1,  activation='sigmoid', \n",
    "          kernel_initializer='uniform'))\n",
    "\n",
    "adam = Adam(lr=0.0017470)\n",
    "model_TDLHBA.compile(loss='binary_crossentropy', optimizer=adam, metrics=['accuracy'])"
   ]
  },
  {
   "cell_type": "code",
   "execution_count": 62,
   "metadata": {},
   "outputs": [
    {
     "name": "stdout",
     "output_type": "stream",
     "text": [
      "Model: \"sequential_7\"\n",
      "_________________________________________________________________\n",
      "Layer (type)                 Output Shape              Param #   \n",
      "=================================================================\n",
      "dense_14 (Dense)             (None, 40)                1240      \n",
      "_________________________________________________________________\n",
      "dense_15 (Dense)             (None, 30)                1230      \n",
      "_________________________________________________________________\n",
      "dense_16 (Dense)             (None, 1)                 31        \n",
      "=================================================================\n",
      "Total params: 2,501\n",
      "Trainable params: 2,501\n",
      "Non-trainable params: 0\n",
      "_________________________________________________________________\n"
     ]
    }
   ],
   "source": [
    "model.summary()"
   ]
  },
  {
   "cell_type": "code",
   "execution_count": 63,
   "metadata": {},
   "outputs": [
    {
     "name": "stdout",
     "output_type": "stream",
     "text": [
      "Epoch 1/100\n",
      "8844/8844 [==============================] - 2s 197us/step - loss: 0.2860 - accuracy: 0.8743\n",
      "Epoch 2/100\n",
      "8844/8844 [==============================] - 2s 198us/step - loss: 0.2203 - accuracy: 0.9118\n",
      "Epoch 3/100\n",
      "8844/8844 [==============================] - 2s 194us/step - loss: 0.2122 - accuracy: 0.9156\n",
      "Epoch 4/100\n",
      "8844/8844 [==============================] - 2s 195us/step - loss: 0.2060 - accuracy: 0.9176\n",
      "Epoch 5/100\n",
      "8844/8844 [==============================] - 2s 213us/step - loss: 0.1995 - accuracy: 0.9196\n",
      "Epoch 6/100\n",
      "8844/8844 [==============================] - 2s 184us/step - loss: 0.1939 - accuracy: 0.9211\n",
      "Epoch 7/100\n",
      "8844/8844 [==============================] - 2s 178us/step - loss: 0.1889 - accuracy: 0.9215\n",
      "Epoch 8/100\n",
      "8844/8844 [==============================] - 2s 174us/step - loss: 0.1835 - accuracy: 0.9246\n",
      "Epoch 9/100\n",
      "8844/8844 [==============================] - 2s 172us/step - loss: 0.1786 - accuracy: 0.9262\n",
      "Epoch 10/100\n",
      "8844/8844 [==============================] - 2s 179us/step - loss: 0.1766 - accuracy: 0.9262\n",
      "Epoch 11/100\n",
      "8844/8844 [==============================] - 2s 178us/step - loss: 0.1698 - accuracy: 0.9259\n",
      "Epoch 12/100\n",
      "8844/8844 [==============================] - 2s 177us/step - loss: 0.1676 - accuracy: 0.9303\n",
      "Epoch 13/100\n",
      "8844/8844 [==============================] - 2s 179us/step - loss: 0.1630 - accuracy: 0.9318\n",
      "Epoch 14/100\n",
      "8844/8844 [==============================] - 2s 175us/step - loss: 0.1583 - accuracy: 0.9331\n",
      "Epoch 15/100\n",
      "8844/8844 [==============================] - 2s 172us/step - loss: 0.1561 - accuracy: 0.9353\n",
      "Epoch 16/100\n",
      "8844/8844 [==============================] - 2s 171us/step - loss: 0.1542 - accuracy: 0.9369\n",
      "Epoch 17/100\n",
      "8844/8844 [==============================] - 2s 174us/step - loss: 0.1502 - accuracy: 0.9392\n",
      "Epoch 18/100\n",
      "8844/8844 [==============================] - 2s 176us/step - loss: 0.1449 - accuracy: 0.9408\n",
      "Epoch 19/100\n",
      "8844/8844 [==============================] - 2s 175us/step - loss: 0.1415 - accuracy: 0.9403\n",
      "Epoch 20/100\n",
      "8844/8844 [==============================] - 2s 189us/step - loss: 0.1392 - accuracy: 0.9434\n",
      "Epoch 21/100\n",
      "8844/8844 [==============================] - 2s 175us/step - loss: 0.1367 - accuracy: 0.9447\n",
      "Epoch 22/100\n",
      "8844/8844 [==============================] - 2s 189us/step - loss: 0.1348 - accuracy: 0.9430\n",
      "Epoch 23/100\n",
      "8844/8844 [==============================] - 1s 165us/step - loss: 0.1288 - accuracy: 0.9474\n",
      "Epoch 24/100\n",
      "8844/8844 [==============================] - 1s 167us/step - loss: 0.1289 - accuracy: 0.9469\n",
      "Epoch 25/100\n",
      "8844/8844 [==============================] - 1s 168us/step - loss: 0.1266 - accuracy: 0.9487\n",
      "Epoch 26/100\n",
      "8844/8844 [==============================] - 1s 166us/step - loss: 0.1259 - accuracy: 0.9465\n",
      "Epoch 27/100\n",
      "8844/8844 [==============================] - 1s 166us/step - loss: 0.1221 - accuracy: 0.9490\n",
      "Epoch 28/100\n",
      "8844/8844 [==============================] - 2s 172us/step - loss: 0.1176 - accuracy: 0.9517\n",
      "Epoch 29/100\n",
      "8844/8844 [==============================] - 2s 170us/step - loss: 0.1197 - accuracy: 0.9492\n",
      "Epoch 30/100\n",
      "8844/8844 [==============================] - 2s 174us/step - loss: 0.1174 - accuracy: 0.9496\n",
      "Epoch 31/100\n",
      "8844/8844 [==============================] - 1s 157us/step - loss: 0.1149 - accuracy: 0.9514\n",
      "Epoch 32/100\n",
      "8844/8844 [==============================] - 1s 158us/step - loss: 0.1121 - accuracy: 0.9518\n",
      "Epoch 33/100\n",
      "8844/8844 [==============================] - 1s 157us/step - loss: 0.1122 - accuracy: 0.9512\n",
      "Epoch 34/100\n",
      "8844/8844 [==============================] - 1s 157us/step - loss: 0.1097 - accuracy: 0.9527\n",
      "Epoch 35/100\n",
      "8844/8844 [==============================] - 1s 159us/step - loss: 0.1107 - accuracy: 0.9533\n",
      "Epoch 36/100\n",
      "8844/8844 [==============================] - 1s 157us/step - loss: 0.1062 - accuracy: 0.9545\n",
      "Epoch 37/100\n",
      "8844/8844 [==============================] - 1s 156us/step - loss: 0.1061 - accuracy: 0.9574\n",
      "Epoch 38/100\n",
      "8844/8844 [==============================] - 1s 155us/step - loss: 0.1043 - accuracy: 0.9542\n",
      "Epoch 39/100\n",
      "8844/8844 [==============================] - 1s 155us/step - loss: 0.1061 - accuracy: 0.9557\n",
      "Epoch 40/100\n",
      "8844/8844 [==============================] - 1s 159us/step - loss: 0.1022 - accuracy: 0.9564\n",
      "Epoch 41/100\n",
      "8844/8844 [==============================] - 1s 158us/step - loss: 0.1016 - accuracy: 0.9557\n",
      "Epoch 42/100\n",
      "8844/8844 [==============================] - 1s 157us/step - loss: 0.0986 - accuracy: 0.9591\n",
      "Epoch 43/100\n",
      "8844/8844 [==============================] - 2s 172us/step - loss: 0.0975 - accuracy: 0.9576\n",
      "Epoch 44/100\n",
      "8844/8844 [==============================] - 2s 170us/step - loss: 0.1006 - accuracy: 0.9558\n",
      "Epoch 45/100\n",
      "8844/8844 [==============================] - 1s 164us/step - loss: 0.1012 - accuracy: 0.9545\n",
      "Epoch 46/100\n",
      "8844/8844 [==============================] - 1s 167us/step - loss: 0.0973 - accuracy: 0.9586\n",
      "Epoch 47/100\n",
      "8844/8844 [==============================] - 1s 169us/step - loss: 0.0962 - accuracy: 0.9582\n",
      "Epoch 48/100\n",
      "8844/8844 [==============================] - 1s 164us/step - loss: 0.0942 - accuracy: 0.9599\n",
      "Epoch 49/100\n",
      "8844/8844 [==============================] - 1s 161us/step - loss: 0.0928 - accuracy: 0.9591\n",
      "Epoch 50/100\n",
      "8844/8844 [==============================] - 1s 169us/step - loss: 0.0956 - accuracy: 0.9596\n",
      "Epoch 51/100\n",
      "8844/8844 [==============================] - 1s 161us/step - loss: 0.0931 - accuracy: 0.9599\n",
      "Epoch 52/100\n",
      "8844/8844 [==============================] - 1s 160us/step - loss: 0.0943 - accuracy: 0.9588\n",
      "Epoch 53/100\n",
      "8844/8844 [==============================] - 1s 168us/step - loss: 0.0907 - accuracy: 0.9612\n",
      "Epoch 54/100\n",
      "8844/8844 [==============================] - 1s 159us/step - loss: 0.0943 - accuracy: 0.9594\n",
      "Epoch 55/100\n",
      "8844/8844 [==============================] - 2s 182us/step - loss: 0.0889 - accuracy: 0.9619\n",
      "Epoch 56/100\n",
      "8844/8844 [==============================] - 1s 158us/step - loss: 0.0923 - accuracy: 0.9592\n",
      "Epoch 57/100\n",
      "8844/8844 [==============================] - 1s 158us/step - loss: 0.0891 - accuracy: 0.9617\n",
      "Epoch 58/100\n",
      "8844/8844 [==============================] - 1s 156us/step - loss: 0.0882 - accuracy: 0.9619\n",
      "Epoch 59/100\n",
      "8844/8844 [==============================] - 1s 159us/step - loss: 0.0890 - accuracy: 0.9628\n",
      "Epoch 60/100\n",
      "8844/8844 [==============================] - 1s 159us/step - loss: 0.0883 - accuracy: 0.9612\n",
      "2211/2211 [==============================] - 0s 34us/step\n",
      "\n",
      "Accuracy score of the Neural Network with TDLHBA hyperparameter settings 93.67%\n"
     ]
    }
   ],
   "source": [
    "history_TDLHBA = model_TDLHBA.fit(x_train, y_train, batch_size=10, epochs=100, verbose=1, callbacks=[es_cb])\n",
    "\n",
    "scores = model_TDLHBA.evaluate(x_test, y_test)\n",
    "print('\\nAccuracy score of the Neural Network with TDLHBA hyperparameter settings {0:.2f}%'.format(scores[1]*100))"
   ]
  },
  {
   "cell_type": "code",
   "execution_count": null,
   "metadata": {},
   "outputs": [],
   "source": []
  }
 ],
 "metadata": {
  "kernelspec": {
   "display_name": "Python 3",
   "language": "python",
   "name": "python3"
  },
  "language_info": {
   "codemirror_mode": {
    "name": "ipython",
    "version": 3
   },
   "file_extension": ".py",
   "mimetype": "text/x-python",
   "name": "python",
   "nbconvert_exporter": "python",
   "pygments_lexer": "ipython3",
   "version": "3.7.6"
  }
 },
 "nbformat": 4,
 "nbformat_minor": 2
}
